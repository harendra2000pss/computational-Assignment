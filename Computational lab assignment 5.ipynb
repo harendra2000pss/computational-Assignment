{
 "cells": [
  {
   "cell_type": "code",
   "execution_count": 1,
   "metadata": {},
   "outputs": [],
   "source": [
    "# Creating a Grouped Frequency Table\n",
    "def create_classes(numbers, n): #num = [7, 8, 9, 2, 10, 9, 9, 9, 9, 4, 5, 6, 1, 5, 6, 7, 8, 6, 1, 10]\n",
    "    low = min(numbers)   # 1\n",
    "    high = max(numbers)  # 10\n",
    "    # Width of each class\n",
    "    width = (high - low)/n  #10-1/2 = 9/2 = 4.5\n",
    "    classes = []\n",
    "    a = low  # 1\n",
    "    b = low + width   # 1+4.5 = 5.5\n",
    "    classes = []\n",
    "    while a < (high-width):  # 1<10-4.5\n",
    "        classes.append((a, b))\n",
    "        a = b             # a = 5.5\n",
    "        b = a + width     # b = 5.5 + 4.5\n",
    "# The last class may be of a size that is less than width\n",
    "    classes.append((a, high+1))    #  (5.5,11)\n",
    "    return classes"
   ]
  },
  {
   "cell_type": "code",
   "execution_count": 3,
   "metadata": {},
   "outputs": [
    {
     "name": "stdout",
     "output_type": "stream",
     "text": [
      "[(1, 4.0), (4.0, 7.0), (7.0, 11)]\n",
      "Number\tFrequency\n",
      "(1, 4.0)\t3\n",
      "(4.0, 7.0)\t6\n",
      "(7.0, 11)\t11\n"
     ]
    }
   ],
   "source": [
    "from collections import Counter\n",
    "def frequency_table(numb,num):\n",
    "    table = Counter(numb)\n",
    "    c = Counter(num)\n",
    "    d = c.most_common()# ((9,5),(6,3),(7,2)(8,2),(10,2),(5,2),(1,2),(2,1),(4,1))\n",
    "    print('Number\\tFrequency')\n",
    "    f=0\n",
    "    for number in table.most_common():\n",
    "        for j in d:\n",
    "            if j[0]>=number[0][0] and j[0]<number[0][1]:# frequency is = or greater to lower limit and less than upper limit \n",
    "                f=f + j[1]\n",
    "        print('{0}\\t{1}'.format(number[0], f))\n",
    "        f=0\n",
    "if __name__=='__main__':\n",
    "    num = [7, 8, 9, 2, 10, 9, 9, 9, 9, 4, 5, 6, 1, 5, 6, 7, 8, 6, 1, 10]\n",
    "    scores = create_classes(num,3) \n",
    "    print(scores)\n",
    "    frequency_table(scores,num)   "
   ]
  },
  {
   "cell_type": "code",
   "execution_count": null,
   "metadata": {},
   "outputs": [],
   "source": []
  }
 ],
 "metadata": {
  "kernelspec": {
   "display_name": "Python 3",
   "language": "python",
   "name": "python3"
  },
  "language_info": {
   "codemirror_mode": {
    "name": "ipython",
    "version": 3
   },
   "file_extension": ".py",
   "mimetype": "text/x-python",
   "name": "python",
   "nbconvert_exporter": "python",
   "pygments_lexer": "ipython3",
   "version": "3.8.3"
  }
 },
 "nbformat": 4,
 "nbformat_minor": 4
}
