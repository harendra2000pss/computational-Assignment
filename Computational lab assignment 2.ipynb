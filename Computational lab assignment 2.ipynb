{
 "cells": [
  {
   "cell_type": "code",
   "execution_count": 1,
   "metadata": {},
   "outputs": [
    {
     "name": "stdout",
     "output_type": "stream",
     "text": [
      "List of months: January, February, March,April, May, June, July, August,September, October, November, December\n",
      "input the name of month :January\n"
     ]
    },
    {
     "data": {
      "text/plain": [
       "'31 days'"
      ]
     },
     "execution_count": 1,
     "metadata": {},
     "output_type": "execute_result"
    }
   ],
   "source": [
    "months=[\n",
    "    'January',\n",
    "    'February',\n",
    "    'March',\n",
    "    'April',\n",
    "    'May',\n",
    "    'June',\n",
    "    'July',\n",
    "    'August',\n",
    "    'September',\n",
    "    'October',\n",
    "    'November',\n",
    "    'December'\n",
    "]\n",
    "\n",
    "days=[\n",
    "    '31 days',\n",
    "    '28/29 days',\n",
    "    '31 days',\n",
    "    '30 days',\n",
    "    '31 days',\n",
    "    '30 days',\n",
    "    '31 days',\n",
    "    '31 days',\n",
    "    '30 days',\n",
    "    '31 days',\n",
    "    '30 days',\n",
    "    '31 days'\n",
    "]\n",
    "print('List of months: January, February, March,April, May, June, July, August,September, October, November, December')\n",
    "month=input('input the name of month :')\n",
    "a=months.index(month)\n",
    "days[a]"
   ]
  }
 ],
 "metadata": {
  "kernelspec": {
   "display_name": "Python 3",
   "language": "python",
   "name": "python3"
  },
  "language_info": {
   "codemirror_mode": {
    "name": "ipython",
    "version": 3
   },
   "file_extension": ".py",
   "mimetype": "text/x-python",
   "name": "python",
   "nbconvert_exporter": "python",
   "pygments_lexer": "ipython3",
   "version": "3.8.3"
  }
 },
 "nbformat": 4,
 "nbformat_minor": 4
}
