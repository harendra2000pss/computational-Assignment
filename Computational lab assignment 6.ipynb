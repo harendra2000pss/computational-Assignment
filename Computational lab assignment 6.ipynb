{
 "cells": [
  {
   "cell_type": "code",
   "execution_count": 23,
   "metadata": {},
   "outputs": [],
   "source": [
    "import matplotlib.pyplot as plt\n",
    "import csv\n",
    "import numpy as np"
   ]
  },
  {
   "cell_type": "code",
   "execution_count": 24,
   "metadata": {},
   "outputs": [],
   "source": [
    "#create a function to read data from csv into two sequences\n",
    "def data_import():\n",
    "    income = []\n",
    "    happiness = []\n",
    "    with open('income.csv') as csvfile:\n",
    "        reader = csv.reader(csvfile)\n",
    "        next(reader)\n",
    "        for row in reader:\n",
    "            income.append(float(row[0]))\n",
    "            happiness.append(float(row[1]))\n",
    "        return income, happiness"
   ]
  },
  {
   "cell_type": "code",
   "execution_count": 25,
   "metadata": {},
   "outputs": [],
   "source": [
    "#Copy the  sequence into numpy vectors\n",
    "income,happiness=data_import()\n",
    "income=np.array(income)\n",
    "happiness=np.array(happiness)"
   ]
  },
  {
   "cell_type": "code",
   "execution_count": 26,
   "metadata": {},
   "outputs": [
    {
     "data": {
      "image/png": "[encoded data removed]",
      "text/plain": [
       "<Figure size 432x288 with 1 Axes>"
      ]
     },
     "metadata": {
      "needs_background": "light"
     },
     "output_type": "display_data"
    }
   ],
   "source": [
    "#Visualize the data with scatter plot\n",
    "def data_visualize(X, Y):\n",
    "    plt.xlabel('income',color ='red')\n",
    "    plt.ylabel('happiness',color ='red')\n",
    "    plt.scatter(X, Y)\n",
    "    plt.show()\n",
    "if __name__ == '__main__':\n",
    "    X, Y = data_import()\n",
    "    data_visualize(X, Y)"
   ]
  },
  {
   "cell_type": "code",
   "execution_count": 70,
   "metadata": {},
   "outputs": [
    {
     "data": {
      "text/plain": [
       "0.8867953464637361"
      ]
     },
     "execution_count": 70,
     "metadata": {},
     "output_type": "execute_result"
    }
   ],
   "source": [
    "# Check if association i.e. correlation exist in data\n",
    "def corr(income,happiness):\n",
    "    data_len = len(income)\n",
    "    b = []\n",
    "    for i,j in zip(income,happiness):\n",
    "        b.append(i*j)\n",
    "        \n",
    "    sum_b = sum(b)\n",
    "    sum_income = sum(income)\n",
    "    sum_happiness = sum(happiness)\n",
    "    sq_sum_income = sum_income**2\n",
    "    sq_sum_happiness = sum_happiness**2\n",
    "    \n",
    "    \n",
    "    income_sq = []\n",
    "    for i in income:\n",
    "        income_sq.append(i**2)\n",
    "    income_sq_sum = sum(income_sq)\n",
    "    \n",
    "    happiness_sq=[]\n",
    "    for j in happiness:\n",
    "        happiness_sq.append(j**2)\n",
    "    happiness_sq_sum = sum(happiness_sq)\n",
    "    \n",
    "    #formula of correlation\n",
    "    \n",
    "    num = data_len*sum_b - sum_income*sum_happiness\n",
    "    deno_term1 = data_len*income_sq_sum - sq_sum_income\n",
    "    deno_term2 = data_len*happiness_sq_sum - sq_sum_happiness\n",
    "    deno = (deno_term1*deno_term2)**0.5\n",
    "    \n",
    "    # calculate correlation\n",
    "    correlation = num/deno\n",
    "\n",
    "    return correlation\n",
    "\n",
    "# calculate correleation\n",
    "# if correlation coefficient is not equal to 0 then their is association in the observed and response variable in our data, otherwise not.\n",
    "# if correlation coeffecient is greater than 0 , it is positive correlation.\n",
    "# if correlation coeffecient is less than 0 , it is negative correlation. \n",
    "corr(income,happiness)"
   ]
  },
  {
   "cell_type": "code",
   "execution_count": 46,
   "metadata": {},
   "outputs": [],
   "source": [
    "# correlation coeffecient is greater than 0 , it is positive correlation.\n",
    "# hence their is association in the observed and response variable in our data."
   ]
  },
  {
   "cell_type": "code",
   "execution_count": 43,
   "metadata": {},
   "outputs": [],
   "source": [
    "def mean(a):\n",
    "    n=len(a)\n",
    "    a_mean=sum(a)/n\n",
    "    return a_mean\n",
    "\n",
    "def var(a, ddof=0):\n",
    "    n = len(a)\n",
    "    mean = sum(a) / n\n",
    "    c= sum((x - mean) ** 2 for x in data) / (n - ddof)\n",
    "    return c\n",
    "\n",
    "def std(data):\n",
    "    var = variance(data)\n",
    "    std_dev = (var)**0.5\n",
    "    return std_dev"
   ]
  },
  {
   "cell_type": "code",
   "execution_count": 51,
   "metadata": {},
   "outputs": [],
   "source": [
    "income_mean=mean(income)\n",
    "happiness_mean=mean(happiness)"
   ]
  },
  {
   "cell_type": "code",
   "execution_count": 66,
   "metadata": {},
   "outputs": [
    {
     "name": "stdout",
     "output_type": "stream",
     "text": [
      "the value of Beta_1 : 0.689590169883646\n",
      "the value of Beta_0 :  0.36140894954242464\n",
      "\n",
      "\n",
      "\n",
      "y(predicted) = Beta_0 + Beta_1*X\n",
      "y(predicted) = 0.36140894954242464 + 0.689590169883646*X\n"
     ]
    }
   ],
   "source": [
    "# Fit the model\n",
    "# 6.1 Compute Beta_0 and Beta_1 from observations\n",
    "# 6.2. Create your fitted line y = Beta_0 + Beta_1 * X \n",
    "\n",
    "n = 0\n",
    "d = 0\n",
    "for i in range(len(income)):\n",
    "    n = n + (income[i] - income_mean)*(happiness[i] - happiness_mean)\n",
    "    d = d + (income[i] - income_mean)**2\n",
    "    \n",
    "Beta_1 = n / d\n",
    "Beta_0 = happiness_mean - Beta_1*income_mean\n",
    "\n",
    "print(\"the value of Beta_1 :\",Beta_1)\n",
    "print(\"the value of Beta_0 : \", Beta_0)\n",
    "print(\"\\n\\n\")\n",
    "print(\"y(predicted) = Beta_0 + Beta_1*X\")\n",
    "print(\"y(predicted) = {} + {}*X\".format(Beta_0,Beta_1))"
   ]
  },
  {
   "cell_type": "code",
   "execution_count": 64,
   "metadata": {},
   "outputs": [
    {
     "data": {
      "image/png": "[encoded data removed]",
      "text/plain": [
       "<Figure size 432x288 with 1 Axes>"
      ]
     },
     "metadata": {
      "needs_background": "light"
     },
     "output_type": "display_data"
    }
   ],
   "source": [
    "#Plot the fittd line\n",
    "plt.scatter(income,happiness, label=\"Data points\")\n",
    "plt.plot([min(income),max(income)], [min(happiness) ,max(happiness)] ,label=\"Regression line\" ,color=\"green\" )\n",
    "plt.xlabel('income', color=\"red\")\n",
    "plt.ylabel('happiness',color=\"Red\")\n",
    "plt.legend()\n",
    "plt.show()"
   ]
  },
  {
   "cell_type": "code",
   "execution_count": 69,
   "metadata": {},
   "outputs": [
    {
     "name": "stdout",
     "output_type": "stream",
     "text": [
      "The R-square is :  0.7864059865097413\n"
     ]
    }
   ],
   "source": [
    "# Calculate R-Square\n",
    "ss_t = 0\n",
    "ss_r = 0\n",
    "for i in range(len(income)):\n",
    "    y = Beta_1*income[i] + Beta_0\n",
    "    ss_t = ss_t + (happiness[i] - happiness_mean) ** 2\n",
    "    ss_r = ss_r + (happiness[i] - y) ** 2\n",
    "\n",
    "r_sq = 1 - (ss_r/ss_t)\n",
    "print(\"The R-square is : \", r_sq)"
   ]
  },
  {
   "cell_type": "code",
   "execution_count": 90,
   "metadata": {},
   "outputs": [
    {
     "name": "stdout",
     "output_type": "stream",
     "text": [
      "SS_regression : 143.5199312874863 \n",
      "SS_residual: 38.98113527288191 \n",
      "SS_total : 182.5010665603682\n"
     ]
    }
   ],
   "source": [
    "# Create Anova Table\n",
    "ss_reg = 0.0\n",
    "ss_res = 0.0\n",
    "for i in range(100):\n",
    "    y = Beta_1*income[i] + Beta_0\n",
    "    ss_reg = ss_reg + (y-happiness_mean)**2\n",
    "    ss_res = ss_res + (happiness[i]-y)**2 \n",
    "print(\"SS_regression :\", ss_reg, \"\\nSS_residual:\", ss_res,\"\\nSS_total :\", ss_reg+ss_res)"
   ]
  },
  {
   "cell_type": "code",
   "execution_count": 91,
   "metadata": {},
   "outputs": [
    {
     "name": "stdout",
     "output_type": "stream",
     "text": [
      "MS Regression : 143.5199312874863 \n",
      "MS Residual : 0.39776668645797864\n"
     ]
    }
   ],
   "source": [
    "n = len(income)\n",
    "ms_reg = (ss_reg/1)\n",
    "ms_res = (ss_res/(n-2))\n",
    "print(\"MS Regression :\", ms_reg, \"\\nMS Residual :\", ms_res)"
   ]
  },
  {
   "cell_type": "code",
   "execution_count": 92,
   "metadata": {},
   "outputs": [
    {
     "name": "stdout",
     "output_type": "stream",
     "text": [
      "F-stats :  360.81435719390794\n",
      "Std Err : 0.6306874713025292\n"
     ]
    }
   ],
   "source": [
    "F_stats = (ms_reg/ms_res)\n",
    "print(\"F-stats : \", F_stats)\n",
    "std_Error = (ms_res**0.5) \n",
    "print(\"Std Err :\", std_Error)"
   ]
  },
  {
   "cell_type": "code",
   "execution_count": 93,
   "metadata": {},
   "outputs": [
    {
     "name": "stdout",
     "output_type": "stream",
     "text": [
      "ANOVA\n",
      " \t\t degree of freedom\t\t SS\t\t MS\t\t \tF-stats\t \t\tsignificance-F\n",
      "\n",
      "Regression\t\t 1 \t\t 143.5199312874863 \t 143.5199312874863 \t 360.81435719390794 \t 1.2767e-34\n",
      "\n",
      "Residual\t 100-2 = 98 \t\t 38.98113527288191 \t 0.39776668645797864\n",
      "\n",
      "Total\t\t 100-1 = 99 \t\t 182.5010665603682\n"
     ]
    }
   ],
   "source": [
    "# anova table\n",
    "F_significant = 1.2767E-34 #from table\n",
    "print(\"ANOVA\\n\",\"\\t\\t\",\"degree of freedom\\t\\t\", \"SS\\t\\t\", \"MS\\t\\t\", \"\\tF-stats\\t\", \"\\t\\tsignificance-F\")\n",
    "print(\"\\nRegression\\t\\t\", 1, \"\\t\\t\", ss_regression, \"\\t\", ms_regression, \"\\t\", F_stats, \"\\t\", F_significant)\n",
    "print(\"\\nResidual\\t\", \"100-2 =\", 98, \"\\t\\t\", ss_residual, \"\\t\", ms_residual )\n",
    "print(\"\\nTotal\\t\\t\", \"100-1 =\", 99, \"\\t\\t\", ss_regression+ss_residual )"
   ]
  },
  {
   "cell_type": "code",
   "execution_count": null,
   "metadata": {},
   "outputs": [],
   "source": []
  }
 ],
 "metadata": {
  "kernelspec": {
   "display_name": "Python 3",
   "language": "python",
   "name": "python3"
  },
  "language_info": {
   "codemirror_mode": {
    "name": "ipython",
    "version": 3
   },
   "file_extension": ".py",
   "mimetype": "text/x-python",
   "name": "python",
   "nbconvert_exporter": "python",
   "pygments_lexer": "ipython3",
   "version": "3.8.3"
  }
 },
 "nbformat": 4,
 "nbformat_minor": 4
}
